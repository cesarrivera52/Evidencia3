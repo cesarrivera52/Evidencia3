{
  "nbformat": 4,
  "nbformat_minor": 0,
  "metadata": {
    "colab": {
      "provenance": [],
      "authorship_tag": "ABX9TyOTRwuKWopADEPoQvd0BXs6",
      "include_colab_link": true
    },
    "kernelspec": {
      "name": "python3",
      "display_name": "Python 3"
    },
    "language_info": {
      "name": "python"
    }
  },
  "cells": [
    {
      "cell_type": "markdown",
      "metadata": {
        "id": "view-in-github",
        "colab_type": "text"
      },
      "source": [
        "<a href=\"https://colab.research.google.com/github/cesarrivera52/Evidencia3/blob/main/Evidencia3_RegresionLinealCostu1.ipynb\" target=\"_parent\"><img src=\"https://colab.research.google.com/assets/colab-badge.svg\" alt=\"Open In Colab\"/></a>"
      ]
    },
    {
      "cell_type": "code",
      "execution_count": 115,
      "metadata": {
        "id": "YcSBM-NPkryH"
      },
      "outputs": [],
      "source": [
        "#César Alejandro Rivera Guzmán  A01567012\n",
        "#Actividad 4\n",
        "#Regresión Lineal 1\n",
        "#Costumer"
      ]
    },
    {
      "cell_type": "code",
      "source": [
        "import pandas as pd\n",
        "import numpy as np\n",
        "import matplotlib.pyplot as plt\n",
        "import seaborn as sns\n",
        "import io\n",
        "import matplotlib.pyplot as plt\n",
        "import scipy.special as special\n",
        "from scipy.optimize import curve_fit\n",
        "import seaborn as sns\n",
        "from sklearn.metrics import r2_score\n",
        "from sklearn.model_selection import train_test_split\n",
        "from sklearn.preprocessing import StandardScaler\n",
        "\n",
        "from google.colab import files\n",
        "files.upload()"
      ],
      "metadata": {
        "id": "3cOKZM6Nk_TT"
      },
      "execution_count": null,
      "outputs": []
    },
    {
      "cell_type": "code",
      "source": [
        "data=pd.read_csv('costumer_limpio_3.csv')"
      ],
      "metadata": {
        "id": "EQcSJLTAlMp_"
      },
      "execution_count": 117,
      "outputs": []
    },
    {
      "cell_type": "code",
      "source": [
        "data.info()\n"
      ],
      "metadata": {
        "colab": {
          "base_uri": "https://localhost:8080/"
        },
        "id": "_2F1q7eWagp9",
        "outputId": "e47fc62b-81c5-47a4-ed58-9c626dadbbab"
      },
      "execution_count": null,
      "outputs": [
        {
          "output_type": "stream",
          "name": "stdout",
          "text": [
            "<class 'pandas.core.frame.DataFrame'>\n",
            "RangeIndex: 115 entries, 0 to 114\n",
            "Data columns (total 33 columns):\n",
            " #   Column                               Non-Null Count  Dtype  \n",
            "---  ------                               --------------  -----  \n",
            " 0   Unnamed: 0                           115 non-null    int64  \n",
            " 1   _record_id                           115 non-null    object \n",
            " 2   _title                               115 non-null    object \n",
            " 3   _server_updated_at                   115 non-null    object \n",
            " 4   _updated_by                          115 non-null    object \n",
            " 5   _geometry                            115 non-null    object \n",
            " 6   282_payment_method_that_purchase     115 non-null    object \n",
            " 7   283_fulfill_needs                    115 non-null    object \n",
            " 8   300_did_not_find                     115 non-null    object \n",
            " 9   237_distance_household_interviewee   115 non-null    object \n",
            " 10  299_means_transportation_consumer    115 non-null    object \n",
            " 11  284_additional_products_store        115 non-null    object \n",
            " 12  301_electricity_bill                 115 non-null    object \n",
            " 13  305_electricity_bill_store           115 non-null    object \n",
            " 14  302_water_bill                       115 non-null    object \n",
            " 15  306_water_bill_store                 115 non-null    object \n",
            " 16  303_gas_bill                         115 non-null    object \n",
            " 17  307_gas_bill_store                   115 non-null    object \n",
            " 18  286_topups                           115 non-null    object \n",
            " 19  308_topups_in_store                  115 non-null    object \n",
            " 20  287_wire_transfers                   115 non-null    object \n",
            " 21  309_wiretransfers_in_store           115 non-null    object \n",
            " 22  320_other_services_in_store          115 non-null    object \n",
            " 23  304_additional_services_store        115 non-null    object \n",
            " 24  _latitude                            115 non-null    float64\n",
            " 25  _longitude                           115 non-null    float64\n",
            " 26  238_frequency_buying_store           115 non-null    int64  \n",
            " 27  81_number_online_purchases_month     115 non-null    int64  \n",
            " 28  288_number_app_purchases_month       115 non-null    int64  \n",
            " 29  289_number_whatsapp_purchases_month  115 non-null    int64  \n",
            " 30  83_willingness_ultrafast_delivery    115 non-null    int64  \n",
            " 31  84_willingness_sameday_delivery      115 non-null    int64  \n",
            " 32  241_age_of_the_interviewee           115 non-null    int64  \n",
            "dtypes: float64(2), int64(8), object(23)\n",
            "memory usage: 29.8+ KB\n"
          ]
        }
      ]
    },
    {
      "cell_type": "code",
      "source": [
        "#Eliminar columnas innecesarias\n",
        "datam1=data.drop([\"Unnamed: 0\",\"_record_id\",\"_title\",\"_server_updated_at\",\"_geometry\",\"_latitude\",\"_longitude\"],axis=1)"
      ],
      "metadata": {
        "id": "d3-jh6g1ohl9"
      },
      "execution_count": 118,
      "outputs": []
    },
    {
      "cell_type": "code",
      "source": [
        "datam1.info()\n"
      ],
      "metadata": {
        "colab": {
          "base_uri": "https://localhost:8080/"
        },
        "id": "_m7iGIGGmBtm",
        "outputId": "88113ab8-9d6b-42e4-b101-8e8e7e63da02"
      },
      "execution_count": 119,
      "outputs": [
        {
          "output_type": "stream",
          "name": "stdout",
          "text": [
            "<class 'pandas.core.frame.DataFrame'>\n",
            "RangeIndex: 115 entries, 0 to 114\n",
            "Data columns (total 26 columns):\n",
            " #   Column                               Non-Null Count  Dtype \n",
            "---  ------                               --------------  ----- \n",
            " 0   _updated_by                          115 non-null    object\n",
            " 1   282_payment_method_that_purchase     115 non-null    object\n",
            " 2   283_fulfill_needs                    115 non-null    object\n",
            " 3   300_did_not_find                     115 non-null    object\n",
            " 4   237_distance_household_interviewee   115 non-null    object\n",
            " 5   299_means_transportation_consumer    115 non-null    object\n",
            " 6   284_additional_products_store        115 non-null    object\n",
            " 7   301_electricity_bill                 115 non-null    object\n",
            " 8   305_electricity_bill_store           115 non-null    object\n",
            " 9   302_water_bill                       115 non-null    object\n",
            " 10  306_water_bill_store                 115 non-null    object\n",
            " 11  303_gas_bill                         115 non-null    object\n",
            " 12  307_gas_bill_store                   115 non-null    object\n",
            " 13  286_topups                           115 non-null    object\n",
            " 14  308_topups_in_store                  115 non-null    object\n",
            " 15  287_wire_transfers                   115 non-null    object\n",
            " 16  309_wiretransfers_in_store           115 non-null    object\n",
            " 17  320_other_services_in_store          115 non-null    object\n",
            " 18  304_additional_services_store        115 non-null    object\n",
            " 19  238_frequency_buying_store           115 non-null    int64 \n",
            " 20  81_number_online_purchases_month     115 non-null    int64 \n",
            " 21  288_number_app_purchases_month       115 non-null    int64 \n",
            " 22  289_number_whatsapp_purchases_month  115 non-null    int64 \n",
            " 23  83_willingness_ultrafast_delivery    115 non-null    int64 \n",
            " 24  84_willingness_sameday_delivery      115 non-null    int64 \n",
            " 25  241_age_of_the_interviewee           115 non-null    int64 \n",
            "dtypes: int64(7), object(19)\n",
            "memory usage: 23.5+ KB\n"
          ]
        }
      ]
    },
    {
      "cell_type": "code",
      "source": [
        "#Identificar valores nulos por columna\n",
        "#En este caso es para verificar si hay o existen valores nulos\n",
        "valores_nulos=datam1.isnull().sum()\n",
        "valores_nulos"
      ],
      "metadata": {
        "colab": {
          "base_uri": "https://localhost:8080/"
        },
        "id": "9QtverHna55m",
        "outputId": "eabf0945-db3f-4140-c6b0-887dbb974e96"
      },
      "execution_count": 120,
      "outputs": [
        {
          "output_type": "execute_result",
          "data": {
            "text/plain": [
              "_updated_by                            0\n",
              "282_payment_method_that_purchase       0\n",
              "283_fulfill_needs                      0\n",
              "300_did_not_find                       0\n",
              "237_distance_household_interviewee     0\n",
              "299_means_transportation_consumer      0\n",
              "284_additional_products_store          0\n",
              "301_electricity_bill                   0\n",
              "305_electricity_bill_store             0\n",
              "302_water_bill                         0\n",
              "306_water_bill_store                   0\n",
              "303_gas_bill                           0\n",
              "307_gas_bill_store                     0\n",
              "286_topups                             0\n",
              "308_topups_in_store                    0\n",
              "287_wire_transfers                     0\n",
              "309_wiretransfers_in_store             0\n",
              "320_other_services_in_store            0\n",
              "304_additional_services_store          0\n",
              "238_frequency_buying_store             0\n",
              "81_number_online_purchases_month       0\n",
              "288_number_app_purchases_month         0\n",
              "289_number_whatsapp_purchases_month    0\n",
              "83_willingness_ultrafast_delivery      0\n",
              "84_willingness_sameday_delivery        0\n",
              "241_age_of_the_interviewee             0\n",
              "dtype: int64"
            ]
          },
          "metadata": {},
          "execution_count": 120
        }
      ]
    },
    {
      "cell_type": "code",
      "source": [
        "datam1.info()"
      ],
      "metadata": {
        "colab": {
          "base_uri": "https://localhost:8080/"
        },
        "id": "RbDnr5gbg_35",
        "outputId": "d2e7be9f-36e6-4180-908b-07f1792f2f6b"
      },
      "execution_count": 121,
      "outputs": [
        {
          "output_type": "stream",
          "name": "stdout",
          "text": [
            "<class 'pandas.core.frame.DataFrame'>\n",
            "RangeIndex: 115 entries, 0 to 114\n",
            "Data columns (total 26 columns):\n",
            " #   Column                               Non-Null Count  Dtype \n",
            "---  ------                               --------------  ----- \n",
            " 0   _updated_by                          115 non-null    object\n",
            " 1   282_payment_method_that_purchase     115 non-null    object\n",
            " 2   283_fulfill_needs                    115 non-null    object\n",
            " 3   300_did_not_find                     115 non-null    object\n",
            " 4   237_distance_household_interviewee   115 non-null    object\n",
            " 5   299_means_transportation_consumer    115 non-null    object\n",
            " 6   284_additional_products_store        115 non-null    object\n",
            " 7   301_electricity_bill                 115 non-null    object\n",
            " 8   305_electricity_bill_store           115 non-null    object\n",
            " 9   302_water_bill                       115 non-null    object\n",
            " 10  306_water_bill_store                 115 non-null    object\n",
            " 11  303_gas_bill                         115 non-null    object\n",
            " 12  307_gas_bill_store                   115 non-null    object\n",
            " 13  286_topups                           115 non-null    object\n",
            " 14  308_topups_in_store                  115 non-null    object\n",
            " 15  287_wire_transfers                   115 non-null    object\n",
            " 16  309_wiretransfers_in_store           115 non-null    object\n",
            " 17  320_other_services_in_store          115 non-null    object\n",
            " 18  304_additional_services_store        115 non-null    object\n",
            " 19  238_frequency_buying_store           115 non-null    int64 \n",
            " 20  81_number_online_purchases_month     115 non-null    int64 \n",
            " 21  288_number_app_purchases_month       115 non-null    int64 \n",
            " 22  289_number_whatsapp_purchases_month  115 non-null    int64 \n",
            " 23  83_willingness_ultrafast_delivery    115 non-null    int64 \n",
            " 24  84_willingness_sameday_delivery      115 non-null    int64 \n",
            " 25  241_age_of_the_interviewee           115 non-null    int64 \n",
            "dtypes: int64(7), object(19)\n",
            "memory usage: 23.5+ KB\n"
          ]
        }
      ]
    },
    {
      "cell_type": "code",
      "source": [
        "#Filtro para separar variables cuantitativas\n",
        "fdatam_cual=datam1.iloc[:,0:18]"
      ],
      "metadata": {
        "id": "Ur_dP5Wcqenb"
      },
      "execution_count": 122,
      "outputs": []
    },
    {
      "cell_type": "code",
      "source": [
        "#Identificar valores nulos por columna\n",
        "valores_nulos=fdatam_cual.isnull().sum()\n",
        "valores_nulos"
      ],
      "metadata": {
        "colab": {
          "base_uri": "https://localhost:8080/"
        },
        "id": "iwyc1Fj-rtWQ",
        "outputId": "f071146e-a850-4a9e-c2c7-5d66e2c43c66"
      },
      "execution_count": 123,
      "outputs": [
        {
          "output_type": "execute_result",
          "data": {
            "text/plain": [
              "_updated_by                           0\n",
              "282_payment_method_that_purchase      0\n",
              "283_fulfill_needs                     0\n",
              "300_did_not_find                      0\n",
              "237_distance_household_interviewee    0\n",
              "299_means_transportation_consumer     0\n",
              "284_additional_products_store         0\n",
              "301_electricity_bill                  0\n",
              "305_electricity_bill_store            0\n",
              "302_water_bill                        0\n",
              "306_water_bill_store                  0\n",
              "303_gas_bill                          0\n",
              "307_gas_bill_store                    0\n",
              "286_topups                            0\n",
              "308_topups_in_store                   0\n",
              "287_wire_transfers                    0\n",
              "309_wiretransfers_in_store            0\n",
              "320_other_services_in_store           0\n",
              "dtype: int64"
            ]
          },
          "metadata": {},
          "execution_count": 123
        }
      ]
    },
    {
      "cell_type": "code",
      "source": [
        "#Filtro para separar variables cuantitativas\n",
        "fdatam_cuan=datam1.iloc[:,19:25]"
      ],
      "metadata": {
        "id": "QKWYXViosOTH"
      },
      "execution_count": 124,
      "outputs": []
    },
    {
      "cell_type": "code",
      "source": [
        "#Cargar archivo csv desde seaborn\n",
        "df=(data5)\n",
        "df.head(5)"
      ],
      "metadata": {
        "colab": {
          "base_uri": "https://localhost:8080/",
          "height": 270
        },
        "id": "r6ZN_Q2lJXb7",
        "outputId": "183b74d9-150d-42fd-b3fb-d4370d3a8374"
      },
      "execution_count": 127,
      "outputs": [
        {
          "output_type": "execute_result",
          "data": {
            "text/plain": [
              "   Predicciones  81_number_online_purchases_month  \\\n",
              "0      2.139653                               5.0   \n",
              "1      1.989604                               5.0   \n",
              "2      4.238483                               2.0   \n",
              "3      1.146390                               2.0   \n",
              "4      2.458159                               2.0   \n",
              "\n",
              "   288_number_app_purchases_month  289_number_whatsapp_purchases_month  \\\n",
              "0                             4.0                                  2.0   \n",
              "1                             3.0                                  0.0   \n",
              "2                            12.0                                  2.0   \n",
              "3                             0.0                                  1.0   \n",
              "4                             5.0                                  1.0   \n",
              "\n",
              "   83_willingness_ultrafast_delivery  84_willingness_sameday_delivery  \n",
              "0                               30.0                            100.0  \n",
              "1                               30.0                            100.0  \n",
              "2                               30.0                             40.0  \n",
              "3                               30.0                            150.0  \n",
              "4                               30.0                            150.0  "
            ],
            "text/html": [
              "\n",
              "  <div id=\"df-b00bdc32-2f64-45da-9f50-adda14ab75ea\">\n",
              "    <div class=\"colab-df-container\">\n",
              "      <div>\n",
              "<style scoped>\n",
              "    .dataframe tbody tr th:only-of-type {\n",
              "        vertical-align: middle;\n",
              "    }\n",
              "\n",
              "    .dataframe tbody tr th {\n",
              "        vertical-align: top;\n",
              "    }\n",
              "\n",
              "    .dataframe thead th {\n",
              "        text-align: right;\n",
              "    }\n",
              "</style>\n",
              "<table border=\"1\" class=\"dataframe\">\n",
              "  <thead>\n",
              "    <tr style=\"text-align: right;\">\n",
              "      <th></th>\n",
              "      <th>Predicciones</th>\n",
              "      <th>81_number_online_purchases_month</th>\n",
              "      <th>288_number_app_purchases_month</th>\n",
              "      <th>289_number_whatsapp_purchases_month</th>\n",
              "      <th>83_willingness_ultrafast_delivery</th>\n",
              "      <th>84_willingness_sameday_delivery</th>\n",
              "    </tr>\n",
              "  </thead>\n",
              "  <tbody>\n",
              "    <tr>\n",
              "      <th>0</th>\n",
              "      <td>2.139653</td>\n",
              "      <td>5.0</td>\n",
              "      <td>4.0</td>\n",
              "      <td>2.0</td>\n",
              "      <td>30.0</td>\n",
              "      <td>100.0</td>\n",
              "    </tr>\n",
              "    <tr>\n",
              "      <th>1</th>\n",
              "      <td>1.989604</td>\n",
              "      <td>5.0</td>\n",
              "      <td>3.0</td>\n",
              "      <td>0.0</td>\n",
              "      <td>30.0</td>\n",
              "      <td>100.0</td>\n",
              "    </tr>\n",
              "    <tr>\n",
              "      <th>2</th>\n",
              "      <td>4.238483</td>\n",
              "      <td>2.0</td>\n",
              "      <td>12.0</td>\n",
              "      <td>2.0</td>\n",
              "      <td>30.0</td>\n",
              "      <td>40.0</td>\n",
              "    </tr>\n",
              "    <tr>\n",
              "      <th>3</th>\n",
              "      <td>1.146390</td>\n",
              "      <td>2.0</td>\n",
              "      <td>0.0</td>\n",
              "      <td>1.0</td>\n",
              "      <td>30.0</td>\n",
              "      <td>150.0</td>\n",
              "    </tr>\n",
              "    <tr>\n",
              "      <th>4</th>\n",
              "      <td>2.458159</td>\n",
              "      <td>2.0</td>\n",
              "      <td>5.0</td>\n",
              "      <td>1.0</td>\n",
              "      <td>30.0</td>\n",
              "      <td>150.0</td>\n",
              "    </tr>\n",
              "  </tbody>\n",
              "</table>\n",
              "</div>\n",
              "      <button class=\"colab-df-convert\" onclick=\"convertToInteractive('df-b00bdc32-2f64-45da-9f50-adda14ab75ea')\"\n",
              "              title=\"Convert this dataframe to an interactive table.\"\n",
              "              style=\"display:none;\">\n",
              "        \n",
              "  <svg xmlns=\"http://www.w3.org/2000/svg\" height=\"24px\"viewBox=\"0 0 24 24\"\n",
              "       width=\"24px\">\n",
              "    <path d=\"M0 0h24v24H0V0z\" fill=\"none\"/>\n",
              "    <path d=\"M18.56 5.44l.94 2.06.94-2.06 2.06-.94-2.06-.94-.94-2.06-.94 2.06-2.06.94zm-11 1L8.5 8.5l.94-2.06 2.06-.94-2.06-.94L8.5 2.5l-.94 2.06-2.06.94zm10 10l.94 2.06.94-2.06 2.06-.94-2.06-.94-.94-2.06-.94 2.06-2.06.94z\"/><path d=\"M17.41 7.96l-1.37-1.37c-.4-.4-.92-.59-1.43-.59-.52 0-1.04.2-1.43.59L10.3 9.45l-7.72 7.72c-.78.78-.78 2.05 0 2.83L4 21.41c.39.39.9.59 1.41.59.51 0 1.02-.2 1.41-.59l7.78-7.78 2.81-2.81c.8-.78.8-2.07 0-2.86zM5.41 20L4 18.59l7.72-7.72 1.47 1.35L5.41 20z\"/>\n",
              "  </svg>\n",
              "      </button>\n",
              "      \n",
              "  <style>\n",
              "    .colab-df-container {\n",
              "      display:flex;\n",
              "      flex-wrap:wrap;\n",
              "      gap: 12px;\n",
              "    }\n",
              "\n",
              "    .colab-df-convert {\n",
              "      background-color: #E8F0FE;\n",
              "      border: none;\n",
              "      border-radius: 50%;\n",
              "      cursor: pointer;\n",
              "      display: none;\n",
              "      fill: #1967D2;\n",
              "      height: 32px;\n",
              "      padding: 0 0 0 0;\n",
              "      width: 32px;\n",
              "    }\n",
              "\n",
              "    .colab-df-convert:hover {\n",
              "      background-color: #E2EBFA;\n",
              "      box-shadow: 0px 1px 2px rgba(60, 64, 67, 0.3), 0px 1px 3px 1px rgba(60, 64, 67, 0.15);\n",
              "      fill: #174EA6;\n",
              "    }\n",
              "\n",
              "    [theme=dark] .colab-df-convert {\n",
              "      background-color: #3B4455;\n",
              "      fill: #D2E3FC;\n",
              "    }\n",
              "\n",
              "    [theme=dark] .colab-df-convert:hover {\n",
              "      background-color: #434B5C;\n",
              "      box-shadow: 0px 1px 3px 1px rgba(0, 0, 0, 0.15);\n",
              "      filter: drop-shadow(0px 1px 2px rgba(0, 0, 0, 0.3));\n",
              "      fill: #FFFFFF;\n",
              "    }\n",
              "  </style>\n",
              "\n",
              "      <script>\n",
              "        const buttonEl =\n",
              "          document.querySelector('#df-b00bdc32-2f64-45da-9f50-adda14ab75ea button.colab-df-convert');\n",
              "        buttonEl.style.display =\n",
              "          google.colab.kernel.accessAllowed ? 'block' : 'none';\n",
              "\n",
              "        async function convertToInteractive(key) {\n",
              "          const element = document.querySelector('#df-b00bdc32-2f64-45da-9f50-adda14ab75ea');\n",
              "          const dataTable =\n",
              "            await google.colab.kernel.invokeFunction('convertToInteractive',\n",
              "                                                     [key], {});\n",
              "          if (!dataTable) return;\n",
              "\n",
              "          const docLinkHtml = 'Like what you see? Visit the ' +\n",
              "            '<a target=\"_blank\" href=https://colab.research.google.com/notebooks/data_table.ipynb>data table notebook</a>'\n",
              "            + ' to learn more about interactive tables.';\n",
              "          element.innerHTML = '';\n",
              "          dataTable['output_type'] = 'display_data';\n",
              "          await google.colab.output.renderOutput(dataTable, element);\n",
              "          const docLink = document.createElement('div');\n",
              "          docLink.innerHTML = docLinkHtml;\n",
              "          element.appendChild(docLink);\n",
              "        }\n",
              "      </script>\n",
              "    </div>\n",
              "  </div>\n",
              "  "
            ]
          },
          "metadata": {},
          "execution_count": 127
        }
      ]
    },
    {
      "cell_type": "code",
      "source": [
        "#Se grafican mapas de dispersión de las variables 3 variables:'alcohol', 'speeding' y 'no_previous' al respecto a la variable \"total\"\n",
        "from turtle import color\n",
        "\n",
        "sns.scatterplot(x='288_number_app_purchases_month', y='81_number_online_purchases_month', color=\"blue\", data=df)\n",
        "sns.scatterplot(x='289_number_whatsapp_purchases_month', y='81_number_online_purchases_month', color=\"red\", data=df)\n",
        "sns.scatterplot(x='83_willingness_ultrafast_delivery', y='81_number_online_purchases_month', color=\"black\", data=df)"
      ],
      "metadata": {
        "colab": {
          "base_uri": "https://localhost:8080/",
          "height": 298
        },
        "id": "aNNBooUcJoyG",
        "outputId": "3b19fcbc-3b83-4abf-934c-75a37f42c713"
      },
      "execution_count": 128,
      "outputs": [
        {
          "output_type": "execute_result",
          "data": {
            "text/plain": [
              "<matplotlib.axes._subplots.AxesSubplot at 0x7f3827f1f8d0>"
            ]
          },
          "metadata": {},
          "execution_count": 128
        },
        {
          "output_type": "display_data",
          "data": {
            "text/plain": [
              "<Figure size 432x288 with 1 Axes>"
            ],
            "image/png": "[encoded data removed]"
          },
          "metadata": {
            "needs_background": "light"
          }
        }
      ]
    },
    {
      "cell_type": "code",
      "source": [
        "#Declaramos las variables dependientes e independientes para la regresión lineal\n",
        "Vars_Indep1= df[['288_number_app_purchases_month', '289_number_whatsapp_purchases_month','83_willingness_ultrafast_delivery']]\n",
        "Var_Dep1= df['81_number_online_purchases_month']"
      ],
      "metadata": {
        "id": "FUufpaXIKVMC"
      },
      "execution_count": 129,
      "outputs": []
    },
    {
      "cell_type": "code",
      "source": [
        "#Se define model como la función de regresión lineal\n",
        "from sklearn.linear_model import LinearRegression\n",
        "model1= LinearRegression()"
      ],
      "metadata": {
        "id": "DN9wOY_lLGuV"
      },
      "execution_count": 130,
      "outputs": []
    },
    {
      "cell_type": "code",
      "source": [
        "#Verificamos la función relacionada al modelo\n",
        "type(model1)"
      ],
      "metadata": {
        "colab": {
          "base_uri": "https://localhost:8080/"
        },
        "id": "j5QRTmQOLKld",
        "outputId": "77282a26-46c4-4a57-a8af-21373930b7ef"
      },
      "execution_count": 131,
      "outputs": [
        {
          "output_type": "execute_result",
          "data": {
            "text/plain": [
              "sklearn.linear_model._base.LinearRegression"
            ]
          },
          "metadata": {},
          "execution_count": 131
        }
      ]
    },
    {
      "cell_type": "code",
      "source": [
        "#Ajustamos el modelo con las variables antes declaradas\n",
        "model1.fit(X=Vars_Indep1, y=Var_Dep1)\n"
      ],
      "metadata": {
        "colab": {
          "base_uri": "https://localhost:8080/"
        },
        "id": "o_YGCWPBLRjS",
        "outputId": "63056c2b-b7ab-440d-ab19-c9f5e07ce622"
      },
      "execution_count": 132,
      "outputs": [
        {
          "output_type": "execute_result",
          "data": {
            "text/plain": [
              "LinearRegression()"
            ]
          },
          "metadata": {},
          "execution_count": 132
        }
      ]
    },
    {
      "cell_type": "code",
      "source": [
        "#Verificamos los coeficientes obtenidos para el modelo ajustado\n",
        "model1.__dict__"
      ],
      "metadata": {
        "colab": {
          "base_uri": "https://localhost:8080/"
        },
        "id": "_YqmfdigLWD0",
        "outputId": "e03d7acc-5c78-420b-cd7d-f34c8109a255"
      },
      "execution_count": 133,
      "outputs": [
        {
          "output_type": "execute_result",
          "data": {
            "text/plain": [
              "{'fit_intercept': True,\n",
              " 'normalize': 'deprecated',\n",
              " 'copy_X': True,\n",
              " 'n_jobs': None,\n",
              " 'positive': False,\n",
              " 'feature_names_in_': array(['288_number_app_purchases_month',\n",
              "        '289_number_whatsapp_purchases_month',\n",
              "        '83_willingness_ultrafast_delivery'], dtype=object),\n",
              " 'n_features_in_': 3,\n",
              " 'coef_': array([ 0.26235379, -0.05615229,  0.00670704]),\n",
              " '_residues': 868.0423833419806,\n",
              " 'rank_': 3,\n",
              " 'singular_': array([548.78621298,  55.01953842,  11.6725964 ]),\n",
              " 'intercept_': 1.0013312872958755}"
            ]
          },
          "metadata": {},
          "execution_count": 133
        }
      ]
    },
    {
      "cell_type": "code",
      "source": [
        "#Evaluamos la eficiencia del modelo obtenido por medio del coeficiente R2 Determinación\n",
        "model1.score(Vars_Indep1,Var_Dep1)"
      ],
      "metadata": {
        "colab": {
          "base_uri": "https://localhost:8080/"
        },
        "id": "BHhKHBsuLZq0",
        "outputId": "cf4965e8-52de-465c-91d9-e768f2f8088b"
      },
      "execution_count": 134,
      "outputs": [
        {
          "output_type": "execute_result",
          "data": {
            "text/plain": [
              "0.2211494990878139"
            ]
          },
          "metadata": {},
          "execution_count": 134
        }
      ]
    },
    {
      "cell_type": "markdown",
      "source": [
        "MODELO PREDICTIVO"
      ],
      "metadata": {
        "id": "6npjTH32LeDA"
      }
    },
    {
      "cell_type": "code",
      "source": [
        "#Predecimos los valores de total de accidentes a partir de las variables: \"alcohol\", \"speeding\" y \"no_previous\"\n",
        "y_pred1= model1.predict(X=df[['288_number_app_purchases_month','289_number_whatsapp_purchases_month','83_willingness_ultrafast_delivery']])\n",
        "y_pred1"
      ],
      "metadata": {
        "id": "TJyGmKegkUIo"
      },
      "execution_count": null,
      "outputs": []
    },
    {
      "cell_type": "code",
      "source": [
        "#Insertamos la columna de predicciones en el DataFrame\n",
        "df.insert(0, 'Predicciones', y_pred1)\n",
        "df"
      ],
      "metadata": {
        "colab": {
          "base_uri": "https://localhost:8080/",
          "height": 329
        },
        "id": "TgtzFBfMLrVA",
        "outputId": "bf5bc1d8-a68f-44f5-b258-92c5398a3472"
      },
      "execution_count": 139,
      "outputs": [
        {
          "output_type": "error",
          "ename": "ValueError",
          "evalue": "ignored",
          "traceback": [
            "\u001b[0;31m---------------------------------------------------------------------------\u001b[0m",
            "\u001b[0;31mValueError\u001b[0m                                Traceback (most recent call last)",
            "\u001b[0;32m<ipython-input-139-1c35d3db0f0f>\u001b[0m in \u001b[0;36m<module>\u001b[0;34m\u001b[0m\n\u001b[1;32m      1\u001b[0m \u001b[0;31m#Insertamos la columna de predicciones en el DataFrame\u001b[0m\u001b[0;34m\u001b[0m\u001b[0;34m\u001b[0m\u001b[0;34m\u001b[0m\u001b[0m\n\u001b[0;32m----> 2\u001b[0;31m \u001b[0mdf\u001b[0m\u001b[0;34m.\u001b[0m\u001b[0minsert\u001b[0m\u001b[0;34m(\u001b[0m\u001b[0;36m0\u001b[0m\u001b[0;34m,\u001b[0m \u001b[0;34m'Predicciones'\u001b[0m\u001b[0;34m,\u001b[0m \u001b[0my_pred1\u001b[0m\u001b[0;34m)\u001b[0m\u001b[0;34m\u001b[0m\u001b[0;34m\u001b[0m\u001b[0m\n\u001b[0m\u001b[1;32m      3\u001b[0m \u001b[0mdf\u001b[0m\u001b[0;34m\u001b[0m\u001b[0;34m\u001b[0m\u001b[0m\n",
            "\u001b[0;32m/usr/local/lib/python3.7/dist-packages/pandas/core/frame.py\u001b[0m in \u001b[0;36minsert\u001b[0;34m(self, loc, column, value, allow_duplicates)\u001b[0m\n\u001b[1;32m   4412\u001b[0m         \u001b[0;32mif\u001b[0m \u001b[0;32mnot\u001b[0m \u001b[0mallow_duplicates\u001b[0m \u001b[0;32mand\u001b[0m \u001b[0mcolumn\u001b[0m \u001b[0;32min\u001b[0m \u001b[0mself\u001b[0m\u001b[0;34m.\u001b[0m\u001b[0mcolumns\u001b[0m\u001b[0;34m:\u001b[0m\u001b[0;34m\u001b[0m\u001b[0;34m\u001b[0m\u001b[0m\n\u001b[1;32m   4413\u001b[0m             \u001b[0;31m# Should this be a different kind of error??\u001b[0m\u001b[0;34m\u001b[0m\u001b[0;34m\u001b[0m\u001b[0;34m\u001b[0m\u001b[0m\n\u001b[0;32m-> 4414\u001b[0;31m             \u001b[0;32mraise\u001b[0m \u001b[0mValueError\u001b[0m\u001b[0;34m(\u001b[0m\u001b[0;34mf\"cannot insert {column}, already exists\"\u001b[0m\u001b[0;34m)\u001b[0m\u001b[0;34m\u001b[0m\u001b[0;34m\u001b[0m\u001b[0m\n\u001b[0m\u001b[1;32m   4415\u001b[0m         \u001b[0;32mif\u001b[0m \u001b[0;32mnot\u001b[0m \u001b[0misinstance\u001b[0m\u001b[0;34m(\u001b[0m\u001b[0mloc\u001b[0m\u001b[0;34m,\u001b[0m \u001b[0mint\u001b[0m\u001b[0;34m)\u001b[0m\u001b[0;34m:\u001b[0m\u001b[0;34m\u001b[0m\u001b[0;34m\u001b[0m\u001b[0m\n\u001b[1;32m   4416\u001b[0m             \u001b[0;32mraise\u001b[0m \u001b[0mTypeError\u001b[0m\u001b[0;34m(\u001b[0m\u001b[0;34m\"loc must be int\"\u001b[0m\u001b[0;34m)\u001b[0m\u001b[0;34m\u001b[0m\u001b[0;34m\u001b[0m\u001b[0m\n",
            "\u001b[0;31mValueError\u001b[0m: cannot insert Predicciones, already exists"
          ]
        }
      ]
    },
    {
      "cell_type": "code",
      "source": [
        "#Visualizamos la gráfica comparativa entre el total real y el total predecido\n",
        "\n",
        "sns.scatterplot(x='288_number_app_purchases_month', y='81_number_online_purchases_month', color=\"red\", data=df)\n",
        "sns.scatterplot(x='289_number_whatsapp_purchases_month', y='Predicciones', color=\"blue\", data=df)\n",
        "#sns.lineplot(x='alcohol', y='Predicciones', color=\"red\", data=df)"
      ],
      "metadata": {
        "colab": {
          "base_uri": "https://localhost:8080/",
          "height": 298
        },
        "id": "B7-HRLmHLvSZ",
        "outputId": "7c7bad16-0904-4264-9857-acc0aa1e9f8f"
      },
      "execution_count": null,
      "outputs": [
        {
          "output_type": "execute_result",
          "data": {
            "text/plain": [
              "<matplotlib.axes._subplots.AxesSubplot at 0x7f3827fa4150>"
            ]
          },
          "metadata": {},
          "execution_count": 112
        },
        {
          "output_type": "display_data",
          "data": {
            "text/plain": [
              "<Figure size 432x288 with 1 Axes>"
            ],
            "image/png": "[encoded data removed]"
          },
          "metadata": {
            "needs_background": "light"
          }
        }
      ]
    },
    {
      "cell_type": "code",
      "source": [
        "#Corroboramos cual es el coeficiente de Determinación de nuestro modelo\n",
        "coef_Deter1=model1.score(X=Vars_Indep1, y=Var_Dep1)\n",
        "coef_Deter1"
      ],
      "metadata": {
        "colab": {
          "base_uri": "https://localhost:8080/"
        },
        "id": "15q5ITJfMONC",
        "outputId": "e7076df6-7a33-4da2-d0db-8f5943eb2095"
      },
      "execution_count": null,
      "outputs": [
        {
          "output_type": "execute_result",
          "data": {
            "text/plain": [
              "0.2211494990878139"
            ]
          },
          "metadata": {},
          "execution_count": 113
        }
      ]
    },
    {
      "cell_type": "code",
      "source": [
        "#Corroboramos cual es el coeficiente de Correlación de nuestro modelo\n",
        "coef_Correl1=np.sqrt(coef_Deter1)\n",
        "coef_Correl1"
      ],
      "metadata": {
        "colab": {
          "base_uri": "https://localhost:8080/"
        },
        "id": "GLg5oreaMVx8",
        "outputId": "3e66458e-571f-437f-ba89-f3c231042e2b"
      },
      "execution_count": null,
      "outputs": [
        {
          "output_type": "execute_result",
          "data": {
            "text/plain": [
              "0.47026534965678035"
            ]
          },
          "metadata": {},
          "execution_count": 114
        }
      ]
    }
  ]
}