{
  "nbformat": 4,
  "nbformat_minor": 0,
  "metadata": {
    "colab": {
      "provenance": [],
      "authorship_tag": "ABX9TyOLspAZrUx6t3dHYOLUL8qo",
      "include_colab_link": true
    },
    "kernelspec": {
      "name": "python3",
      "display_name": "Python 3"
    },
    "language_info": {
      "name": "python"
    }
  },
  "cells": [
    {
      "cell_type": "markdown",
      "metadata": {
        "id": "view-in-github",
        "colab_type": "text"
      },
      "source": [
        "<a href=\"https://colab.research.google.com/github/cesarrivera52/Evidencia3/blob/main/Evidencia3_RegresionCostu2_ipynb.ipynb\" target=\"_parent\"><img src=\"https://colab.research.google.com/assets/colab-badge.svg\" alt=\"Open In Colab\"/></a>"
      ]
    },
    {
      "cell_type": "code",
      "source": [
        "#César Alejandro Rivera Guzmán  A01567012\n",
        "#Evidencia 3\n",
        "#Regresión 2\n",
        "#Costumer"
      ],
      "metadata": {
        "id": "uYRAMxALvFwD"
      },
      "execution_count": null,
      "outputs": []
    },
    {
      "cell_type": "code",
      "execution_count": null,
      "metadata": {
        "id": "CJ4aajpNu4ZH"
      },
      "outputs": [],
      "source": [
        "#Cargamos librerias\n",
        "import pandas as pd\n",
        "import numpy as np\n",
        "import matplotlib.pyplot as plt\n",
        "import scipy.special as special\n",
        "from scipy.optimize import curve_fit\n",
        "import seaborn as sns\n",
        "from sklearn.metrics import r2_score\n",
        "from sklearn.model_selection import train_test_split\n",
        "from sklearn.preprocessing import StandardScaler\n",
        "from google.colab import files\n",
        "files.upload()"
      ]
    },
    {
      "cell_type": "code",
      "source": [
        "data=pd.read_csv('consumer_limpio_4.csv')"
      ],
      "metadata": {
        "id": "FuKlA5KevJYF"
      },
      "execution_count": null,
      "outputs": []
    },
    {
      "cell_type": "code",
      "source": [
        "data.info()"
      ],
      "metadata": {
        "colab": {
          "base_uri": "https://localhost:8080/"
        },
        "id": "nMNhdltevwAN",
        "outputId": "0c35e8cc-a8df-4182-ea47-27e9dc116829"
      },
      "execution_count": null,
      "outputs": [
        {
          "output_type": "stream",
          "name": "stdout",
          "text": [
            "<class 'pandas.core.frame.DataFrame'>\n",
            "RangeIndex: 115 entries, 0 to 114\n",
            "Data columns (total 31 columns):\n",
            " #   Column                               Non-Null Count  Dtype \n",
            "---  ------                               --------------  ----- \n",
            " 0   Unnamed: 0                           115 non-null    int64 \n",
            " 1   _record_id                           115 non-null    object\n",
            " 2   _title                               115 non-null    object\n",
            " 3   _server_updated_at                   115 non-null    object\n",
            " 4   _updated_by                          115 non-null    object\n",
            " 5   _geometry                            115 non-null    object\n",
            " 6   282_payment_method_that_purchase     115 non-null    object\n",
            " 7   283_fulfill_needs                    115 non-null    object\n",
            " 8   300_did_not_find                     115 non-null    object\n",
            " 9   237_distance_household_interviewee   115 non-null    object\n",
            " 10  299_means_transportation_consumer    115 non-null    object\n",
            " 11  284_additional_products_store        115 non-null    object\n",
            " 12  301_electricity_bill                 115 non-null    object\n",
            " 13  305_electricity_bill_store           115 non-null    object\n",
            " 14  302_water_bill                       115 non-null    object\n",
            " 15  306_water_bill_store                 115 non-null    object\n",
            " 16  303_gas_bill                         115 non-null    object\n",
            " 17  307_gas_bill_store                   115 non-null    object\n",
            " 18  286_topups                           115 non-null    object\n",
            " 19  308_topups_in_store                  115 non-null    object\n",
            " 20  287_wire_transfers                   115 non-null    object\n",
            " 21  309_wiretransfers_in_store           115 non-null    object\n",
            " 22  320_other_services_in_store          115 non-null    object\n",
            " 23  304_additional_services_store        115 non-null    object\n",
            " 24  238_frequency_buying_store           115 non-null    int64 \n",
            " 25  81_number_online_purchases_month     115 non-null    int64 \n",
            " 26  288_number_app_purchases_month       115 non-null    int64 \n",
            " 27  289_number_whatsapp_purchases_month  115 non-null    int64 \n",
            " 28  83_willingness_ultrafast_delivery    115 non-null    int64 \n",
            " 29  84_willingness_sameday_delivery      115 non-null    int64 \n",
            " 30  241_age_of_the_interviewee           115 non-null    int64 \n",
            "dtypes: int64(8), object(23)\n",
            "memory usage: 28.0+ KB\n"
          ]
        }
      ]
    },
    {
      "cell_type": "code",
      "source": [
        "#Eliminar columnas innecesarias\n",
        "datam1=data.drop([\"Unnamed: 0\",\"_record_id\",\"_title\",\"_server_updated_at\",\"_geometry\"],axis=1)"
      ],
      "metadata": {
        "id": "Dnwjof6jvx28"
      },
      "execution_count": null,
      "outputs": []
    },
    {
      "cell_type": "code",
      "source": [
        "datam1.info()"
      ],
      "metadata": {
        "colab": {
          "base_uri": "https://localhost:8080/"
        },
        "id": "D6NJIBIgwAPB",
        "outputId": "daed533c-aa35-44a1-931e-95b8574d286b"
      },
      "execution_count": null,
      "outputs": [
        {
          "output_type": "stream",
          "name": "stdout",
          "text": [
            "<class 'pandas.core.frame.DataFrame'>\n",
            "RangeIndex: 115 entries, 0 to 114\n",
            "Data columns (total 26 columns):\n",
            " #   Column                               Non-Null Count  Dtype \n",
            "---  ------                               --------------  ----- \n",
            " 0   _updated_by                          115 non-null    object\n",
            " 1   282_payment_method_that_purchase     115 non-null    object\n",
            " 2   283_fulfill_needs                    115 non-null    object\n",
            " 3   300_did_not_find                     115 non-null    object\n",
            " 4   237_distance_household_interviewee   115 non-null    object\n",
            " 5   299_means_transportation_consumer    115 non-null    object\n",
            " 6   284_additional_products_store        115 non-null    object\n",
            " 7   301_electricity_bill                 115 non-null    object\n",
            " 8   305_electricity_bill_store           115 non-null    object\n",
            " 9   302_water_bill                       115 non-null    object\n",
            " 10  306_water_bill_store                 115 non-null    object\n",
            " 11  303_gas_bill                         115 non-null    object\n",
            " 12  307_gas_bill_store                   115 non-null    object\n",
            " 13  286_topups                           115 non-null    object\n",
            " 14  308_topups_in_store                  115 non-null    object\n",
            " 15  287_wire_transfers                   115 non-null    object\n",
            " 16  309_wiretransfers_in_store           115 non-null    object\n",
            " 17  320_other_services_in_store          115 non-null    object\n",
            " 18  304_additional_services_store        115 non-null    object\n",
            " 19  238_frequency_buying_store           115 non-null    int64 \n",
            " 20  81_number_online_purchases_month     115 non-null    int64 \n",
            " 21  288_number_app_purchases_month       115 non-null    int64 \n",
            " 22  289_number_whatsapp_purchases_month  115 non-null    int64 \n",
            " 23  83_willingness_ultrafast_delivery    115 non-null    int64 \n",
            " 24  84_willingness_sameday_delivery      115 non-null    int64 \n",
            " 25  241_age_of_the_interviewee           115 non-null    int64 \n",
            "dtypes: int64(7), object(19)\n",
            "memory usage: 23.5+ KB\n"
          ]
        }
      ]
    },
    {
      "cell_type": "code",
      "source": [
        "#Filtro para separar variables cuantitativas\n",
        "fdatam_cual=datam1.iloc[:,0:18]"
      ],
      "metadata": {
        "id": "CZDm0vZKwG-P"
      },
      "execution_count": null,
      "outputs": []
    },
    {
      "cell_type": "code",
      "source": [
        "#Filtro para separar variables cuantitativas\n",
        "fdatam_cuan=datam1.iloc[:,19:25]"
      ],
      "metadata": {
        "id": "i8nf9glGwJ25"
      },
      "execution_count": null,
      "outputs": []
    },
    {
      "cell_type": "code",
      "source": [
        "#Cargar archivo csv desde seaborn\n",
        "df=(fdatam_cuan)\n",
        "df.head(5)"
      ],
      "metadata": {
        "colab": {
          "base_uri": "https://localhost:8080/",
          "height": 270
        },
        "id": "xQVwJoPxwMsZ",
        "outputId": "dc5b8f64-64bf-4575-f3b3-1021f603b089"
      },
      "execution_count": null,
      "outputs": [
        {
          "output_type": "execute_result",
          "data": {
            "text/plain": [
              "   238_frequency_buying_store  81_number_online_purchases_month  \\\n",
              "0                           1                                 1   \n",
              "1                           1                                 1   \n",
              "2                           1                                 0   \n",
              "3                           1                                 2   \n",
              "4                           1                                 2   \n",
              "\n",
              "   288_number_app_purchases_month  289_number_whatsapp_purchases_month  \\\n",
              "0                               0                                    0   \n",
              "1                               2                                    0   \n",
              "2                               0                                    0   \n",
              "3                               3                                    0   \n",
              "4                               5                                    0   \n",
              "\n",
              "   83_willingness_ultrafast_delivery  84_willingness_sameday_delivery  \n",
              "0                                  0                                0  \n",
              "1                                 35                               50  \n",
              "2                                 40                               25  \n",
              "3                                  0                                0  \n",
              "4                                  0                               50  "
            ],
            "text/html": [
              "\n",
              "  <div id=\"df-814f084f-8c54-4b45-bc04-cad3bea606a2\">\n",
              "    <div class=\"colab-df-container\">\n",
              "      <div>\n",
              "<style scoped>\n",
              "    .dataframe tbody tr th:only-of-type {\n",
              "        vertical-align: middle;\n",
              "    }\n",
              "\n",
              "    .dataframe tbody tr th {\n",
              "        vertical-align: top;\n",
              "    }\n",
              "\n",
              "    .dataframe thead th {\n",
              "        text-align: right;\n",
              "    }\n",
              "</style>\n",
              "<table border=\"1\" class=\"dataframe\">\n",
              "  <thead>\n",
              "    <tr style=\"text-align: right;\">\n",
              "      <th></th>\n",
              "      <th>238_frequency_buying_store</th>\n",
              "      <th>81_number_online_purchases_month</th>\n",
              "      <th>288_number_app_purchases_month</th>\n",
              "      <th>289_number_whatsapp_purchases_month</th>\n",
              "      <th>83_willingness_ultrafast_delivery</th>\n",
              "      <th>84_willingness_sameday_delivery</th>\n",
              "    </tr>\n",
              "  </thead>\n",
              "  <tbody>\n",
              "    <tr>\n",
              "      <th>0</th>\n",
              "      <td>1</td>\n",
              "      <td>1</td>\n",
              "      <td>0</td>\n",
              "      <td>0</td>\n",
              "      <td>0</td>\n",
              "      <td>0</td>\n",
              "    </tr>\n",
              "    <tr>\n",
              "      <th>1</th>\n",
              "      <td>1</td>\n",
              "      <td>1</td>\n",
              "      <td>2</td>\n",
              "      <td>0</td>\n",
              "      <td>35</td>\n",
              "      <td>50</td>\n",
              "    </tr>\n",
              "    <tr>\n",
              "      <th>2</th>\n",
              "      <td>1</td>\n",
              "      <td>0</td>\n",
              "      <td>0</td>\n",
              "      <td>0</td>\n",
              "      <td>40</td>\n",
              "      <td>25</td>\n",
              "    </tr>\n",
              "    <tr>\n",
              "      <th>3</th>\n",
              "      <td>1</td>\n",
              "      <td>2</td>\n",
              "      <td>3</td>\n",
              "      <td>0</td>\n",
              "      <td>0</td>\n",
              "      <td>0</td>\n",
              "    </tr>\n",
              "    <tr>\n",
              "      <th>4</th>\n",
              "      <td>1</td>\n",
              "      <td>2</td>\n",
              "      <td>5</td>\n",
              "      <td>0</td>\n",
              "      <td>0</td>\n",
              "      <td>50</td>\n",
              "    </tr>\n",
              "  </tbody>\n",
              "</table>\n",
              "</div>\n",
              "      <button class=\"colab-df-convert\" onclick=\"convertToInteractive('df-814f084f-8c54-4b45-bc04-cad3bea606a2')\"\n",
              "              title=\"Convert this dataframe to an interactive table.\"\n",
              "              style=\"display:none;\">\n",
              "        \n",
              "  <svg xmlns=\"http://www.w3.org/2000/svg\" height=\"24px\"viewBox=\"0 0 24 24\"\n",
              "       width=\"24px\">\n",
              "    <path d=\"M0 0h24v24H0V0z\" fill=\"none\"/>\n",
              "    <path d=\"M18.56 5.44l.94 2.06.94-2.06 2.06-.94-2.06-.94-.94-2.06-.94 2.06-2.06.94zm-11 1L8.5 8.5l.94-2.06 2.06-.94-2.06-.94L8.5 2.5l-.94 2.06-2.06.94zm10 10l.94 2.06.94-2.06 2.06-.94-2.06-.94-.94-2.06-.94 2.06-2.06.94z\"/><path d=\"M17.41 7.96l-1.37-1.37c-.4-.4-.92-.59-1.43-.59-.52 0-1.04.2-1.43.59L10.3 9.45l-7.72 7.72c-.78.78-.78 2.05 0 2.83L4 21.41c.39.39.9.59 1.41.59.51 0 1.02-.2 1.41-.59l7.78-7.78 2.81-2.81c.8-.78.8-2.07 0-2.86zM5.41 20L4 18.59l7.72-7.72 1.47 1.35L5.41 20z\"/>\n",
              "  </svg>\n",
              "      </button>\n",
              "      \n",
              "  <style>\n",
              "    .colab-df-container {\n",
              "      display:flex;\n",
              "      flex-wrap:wrap;\n",
              "      gap: 12px;\n",
              "    }\n",
              "\n",
              "    .colab-df-convert {\n",
              "      background-color: #E8F0FE;\n",
              "      border: none;\n",
              "      border-radius: 50%;\n",
              "      cursor: pointer;\n",
              "      display: none;\n",
              "      fill: #1967D2;\n",
              "      height: 32px;\n",
              "      padding: 0 0 0 0;\n",
              "      width: 32px;\n",
              "    }\n",
              "\n",
              "    .colab-df-convert:hover {\n",
              "      background-color: #E2EBFA;\n",
              "      box-shadow: 0px 1px 2px rgba(60, 64, 67, 0.3), 0px 1px 3px 1px rgba(60, 64, 67, 0.15);\n",
              "      fill: #174EA6;\n",
              "    }\n",
              "\n",
              "    [theme=dark] .colab-df-convert {\n",
              "      background-color: #3B4455;\n",
              "      fill: #D2E3FC;\n",
              "    }\n",
              "\n",
              "    [theme=dark] .colab-df-convert:hover {\n",
              "      background-color: #434B5C;\n",
              "      box-shadow: 0px 1px 3px 1px rgba(0, 0, 0, 0.15);\n",
              "      filter: drop-shadow(0px 1px 2px rgba(0, 0, 0, 0.3));\n",
              "      fill: #FFFFFF;\n",
              "    }\n",
              "  </style>\n",
              "\n",
              "      <script>\n",
              "        const buttonEl =\n",
              "          document.querySelector('#df-814f084f-8c54-4b45-bc04-cad3bea606a2 button.colab-df-convert');\n",
              "        buttonEl.style.display =\n",
              "          google.colab.kernel.accessAllowed ? 'block' : 'none';\n",
              "\n",
              "        async function convertToInteractive(key) {\n",
              "          const element = document.querySelector('#df-814f084f-8c54-4b45-bc04-cad3bea606a2');\n",
              "          const dataTable =\n",
              "            await google.colab.kernel.invokeFunction('convertToInteractive',\n",
              "                                                     [key], {});\n",
              "          if (!dataTable) return;\n",
              "\n",
              "          const docLinkHtml = 'Like what you see? Visit the ' +\n",
              "            '<a target=\"_blank\" href=https://colab.research.google.com/notebooks/data_table.ipynb>data table notebook</a>'\n",
              "            + ' to learn more about interactive tables.';\n",
              "          element.innerHTML = '';\n",
              "          dataTable['output_type'] = 'display_data';\n",
              "          await google.colab.output.renderOutput(dataTable, element);\n",
              "          const docLink = document.createElement('div');\n",
              "          docLink.innerHTML = docLinkHtml;\n",
              "          element.appendChild(docLink);\n",
              "        }\n",
              "      </script>\n",
              "    </div>\n",
              "  </div>\n",
              "  "
            ]
          },
          "metadata": {},
          "execution_count": 51
        }
      ]
    },
    {
      "cell_type": "code",
      "source": [
        "df2=(fdatam_cual)\n",
        "df2.head(5)"
      ],
      "metadata": {
        "colab": {
          "base_uri": "https://localhost:8080/",
          "height": 426
        },
        "id": "p40h_K02wZoy",
        "outputId": "133f0d27-25e2-46b5-e8c9-564d8b84d5e3"
      },
      "execution_count": null,
      "outputs": [
        {
          "output_type": "execute_result",
          "data": {
            "text/plain": [
              "                    _updated_by 282_payment_method_that_purchase  \\\n",
              "0         Ulises Núñez Bautista                         Efectivo   \n",
              "1          Salomon Abdala Perez                         Efectivo   \n",
              "2          Salomon Abdala Perez                         Efectivo   \n",
              "3  Jorge Alberto Ostorga Flores    Tarjeta de débito y/o crédito   \n",
              "4  Jorge Alberto Ostorga Flores                         Efectivo   \n",
              "\n",
              "  283_fulfill_needs 300_did_not_find 237_distance_household_interviewee  \\\n",
              "0                no     agua de coco                      0 a 3 cuadras   \n",
              "1               yes     agua de coco                     7 a 10 cuadras   \n",
              "2               yes     agua de coco                  más de 10 cuadras   \n",
              "3               yes     agua de coco                      4 a 6 cuadras   \n",
              "4               yes     agua de coco                  más de 10 cuadras   \n",
              "\n",
              "  299_means_transportation_consumer 284_additional_products_store  \\\n",
              "0                             A pie    no_data_additional_product   \n",
              "1                             A pie    no_data_additional_product   \n",
              "2                         Automóvil    no_data_additional_product   \n",
              "3                       Motocicleta    no_data_additional_product   \n",
              "4                Transporte público    no_data_additional_product   \n",
              "\n",
              "                 301_electricity_bill 305_electricity_bill_store  \\\n",
              "0  Tienda de conveniencia (e.g. OXXO)                         no   \n",
              "1  Tienda de conveniencia (e.g. OXXO)                         no   \n",
              "2                                 CFE                        yes   \n",
              "3                        Supermercado                         no   \n",
              "4                                 CFE                         no   \n",
              "\n",
              "                       302_water_bill 306_water_bill_store      303_gas_bill  \\\n",
              "0                     Sistema de agua                   no  Proveedor de gas   \n",
              "1                     Sistema de agua                   no  Proveedor de gas   \n",
              "2  Tienda de conveniencia (e.g. OXXO)                  yes  Proveedor de gas   \n",
              "3                        Supermercado                   no  Proveedor de gas   \n",
              "4                        Supermercado                   no  Proveedor de gas   \n",
              "\n",
              "  307_gas_bill_store                                       286_topups  \\\n",
              "0                 no                                       No lo hago   \n",
              "1                 no               Tienda de conveniencia (e.g. OXXO)   \n",
              "2                yes  Supermercado,Tienda de conveniencia (e.g. OXXO)   \n",
              "3                 no                                       No lo hago   \n",
              "4                 no                                     Supermercado   \n",
              "\n",
              "  308_topups_in_store 287_wire_transfers 309_wiretransfers_in_store  \\\n",
              "0                  no              Banco                         no   \n",
              "1                  no              Banco                         no   \n",
              "2                 yes              Banco                         no   \n",
              "3                  no              Banco                         no   \n",
              "4                  no         No lo hago                         no   \n",
              "\n",
              "  320_other_services_in_store  \n",
              "0                          no  \n",
              "1                          no  \n",
              "2                          no  \n",
              "3                          no  \n",
              "4                          no  "
            ],
            "text/html": [
              "\n",
              "  <div id=\"df-85219a71-ba5f-461f-9f1b-b6cd674581bf\">\n",
              "    <div class=\"colab-df-container\">\n",
              "      <div>\n",
              "<style scoped>\n",
              "    .dataframe tbody tr th:only-of-type {\n",
              "        vertical-align: middle;\n",
              "    }\n",
              "\n",
              "    .dataframe tbody tr th {\n",
              "        vertical-align: top;\n",
              "    }\n",
              "\n",
              "    .dataframe thead th {\n",
              "        text-align: right;\n",
              "    }\n",
              "</style>\n",
              "<table border=\"1\" class=\"dataframe\">\n",
              "  <thead>\n",
              "    <tr style=\"text-align: right;\">\n",
              "      <th></th>\n",
              "      <th>_updated_by</th>\n",
              "      <th>282_payment_method_that_purchase</th>\n",
              "      <th>283_fulfill_needs</th>\n",
              "      <th>300_did_not_find</th>\n",
              "      <th>237_distance_household_interviewee</th>\n",
              "      <th>299_means_transportation_consumer</th>\n",
              "      <th>284_additional_products_store</th>\n",
              "      <th>301_electricity_bill</th>\n",
              "      <th>305_electricity_bill_store</th>\n",
              "      <th>302_water_bill</th>\n",
              "      <th>306_water_bill_store</th>\n",
              "      <th>303_gas_bill</th>\n",
              "      <th>307_gas_bill_store</th>\n",
              "      <th>286_topups</th>\n",
              "      <th>308_topups_in_store</th>\n",
              "      <th>287_wire_transfers</th>\n",
              "      <th>309_wiretransfers_in_store</th>\n",
              "      <th>320_other_services_in_store</th>\n",
              "    </tr>\n",
              "  </thead>\n",
              "  <tbody>\n",
              "    <tr>\n",
              "      <th>0</th>\n",
              "      <td>Ulises Núñez Bautista</td>\n",
              "      <td>Efectivo</td>\n",
              "      <td>no</td>\n",
              "      <td>agua de coco</td>\n",
              "      <td>0 a 3 cuadras</td>\n",
              "      <td>A pie</td>\n",
              "      <td>no_data_additional_product</td>\n",
              "      <td>Tienda de conveniencia (e.g. OXXO)</td>\n",
              "      <td>no</td>\n",
              "      <td>Sistema de agua</td>\n",
              "      <td>no</td>\n",
              "      <td>Proveedor de gas</td>\n",
              "      <td>no</td>\n",
              "      <td>No lo hago</td>\n",
              "      <td>no</td>\n",
              "      <td>Banco</td>\n",
              "      <td>no</td>\n",
              "      <td>no</td>\n",
              "    </tr>\n",
              "    <tr>\n",
              "      <th>1</th>\n",
              "      <td>Salomon Abdala Perez</td>\n",
              "      <td>Efectivo</td>\n",
              "      <td>yes</td>\n",
              "      <td>agua de coco</td>\n",
              "      <td>7 a 10 cuadras</td>\n",
              "      <td>A pie</td>\n",
              "      <td>no_data_additional_product</td>\n",
              "      <td>Tienda de conveniencia (e.g. OXXO)</td>\n",
              "      <td>no</td>\n",
              "      <td>Sistema de agua</td>\n",
              "      <td>no</td>\n",
              "      <td>Proveedor de gas</td>\n",
              "      <td>no</td>\n",
              "      <td>Tienda de conveniencia (e.g. OXXO)</td>\n",
              "      <td>no</td>\n",
              "      <td>Banco</td>\n",
              "      <td>no</td>\n",
              "      <td>no</td>\n",
              "    </tr>\n",
              "    <tr>\n",
              "      <th>2</th>\n",
              "      <td>Salomon Abdala Perez</td>\n",
              "      <td>Efectivo</td>\n",
              "      <td>yes</td>\n",
              "      <td>agua de coco</td>\n",
              "      <td>más de 10 cuadras</td>\n",
              "      <td>Automóvil</td>\n",
              "      <td>no_data_additional_product</td>\n",
              "      <td>CFE</td>\n",
              "      <td>yes</td>\n",
              "      <td>Tienda de conveniencia (e.g. OXXO)</td>\n",
              "      <td>yes</td>\n",
              "      <td>Proveedor de gas</td>\n",
              "      <td>yes</td>\n",
              "      <td>Supermercado,Tienda de conveniencia (e.g. OXXO)</td>\n",
              "      <td>yes</td>\n",
              "      <td>Banco</td>\n",
              "      <td>no</td>\n",
              "      <td>no</td>\n",
              "    </tr>\n",
              "    <tr>\n",
              "      <th>3</th>\n",
              "      <td>Jorge Alberto Ostorga Flores</td>\n",
              "      <td>Tarjeta de débito y/o crédito</td>\n",
              "      <td>yes</td>\n",
              "      <td>agua de coco</td>\n",
              "      <td>4 a 6 cuadras</td>\n",
              "      <td>Motocicleta</td>\n",
              "      <td>no_data_additional_product</td>\n",
              "      <td>Supermercado</td>\n",
              "      <td>no</td>\n",
              "      <td>Supermercado</td>\n",
              "      <td>no</td>\n",
              "      <td>Proveedor de gas</td>\n",
              "      <td>no</td>\n",
              "      <td>No lo hago</td>\n",
              "      <td>no</td>\n",
              "      <td>Banco</td>\n",
              "      <td>no</td>\n",
              "      <td>no</td>\n",
              "    </tr>\n",
              "    <tr>\n",
              "      <th>4</th>\n",
              "      <td>Jorge Alberto Ostorga Flores</td>\n",
              "      <td>Efectivo</td>\n",
              "      <td>yes</td>\n",
              "      <td>agua de coco</td>\n",
              "      <td>más de 10 cuadras</td>\n",
              "      <td>Transporte público</td>\n",
              "      <td>no_data_additional_product</td>\n",
              "      <td>CFE</td>\n",
              "      <td>no</td>\n",
              "      <td>Supermercado</td>\n",
              "      <td>no</td>\n",
              "      <td>Proveedor de gas</td>\n",
              "      <td>no</td>\n",
              "      <td>Supermercado</td>\n",
              "      <td>no</td>\n",
              "      <td>No lo hago</td>\n",
              "      <td>no</td>\n",
              "      <td>no</td>\n",
              "    </tr>\n",
              "  </tbody>\n",
              "</table>\n",
              "</div>\n",
              "      <button class=\"colab-df-convert\" onclick=\"convertToInteractive('df-85219a71-ba5f-461f-9f1b-b6cd674581bf')\"\n",
              "              title=\"Convert this dataframe to an interactive table.\"\n",
              "              style=\"display:none;\">\n",
              "        \n",
              "  <svg xmlns=\"http://www.w3.org/2000/svg\" height=\"24px\"viewBox=\"0 0 24 24\"\n",
              "       width=\"24px\">\n",
              "    <path d=\"M0 0h24v24H0V0z\" fill=\"none\"/>\n",
              "    <path d=\"M18.56 5.44l.94 2.06.94-2.06 2.06-.94-2.06-.94-.94-2.06-.94 2.06-2.06.94zm-11 1L8.5 8.5l.94-2.06 2.06-.94-2.06-.94L8.5 2.5l-.94 2.06-2.06.94zm10 10l.94 2.06.94-2.06 2.06-.94-2.06-.94-.94-2.06-.94 2.06-2.06.94z\"/><path d=\"M17.41 7.96l-1.37-1.37c-.4-.4-.92-.59-1.43-.59-.52 0-1.04.2-1.43.59L10.3 9.45l-7.72 7.72c-.78.78-.78 2.05 0 2.83L4 21.41c.39.39.9.59 1.41.59.51 0 1.02-.2 1.41-.59l7.78-7.78 2.81-2.81c.8-.78.8-2.07 0-2.86zM5.41 20L4 18.59l7.72-7.72 1.47 1.35L5.41 20z\"/>\n",
              "  </svg>\n",
              "      </button>\n",
              "      \n",
              "  <style>\n",
              "    .colab-df-container {\n",
              "      display:flex;\n",
              "      flex-wrap:wrap;\n",
              "      gap: 12px;\n",
              "    }\n",
              "\n",
              "    .colab-df-convert {\n",
              "      background-color: #E8F0FE;\n",
              "      border: none;\n",
              "      border-radius: 50%;\n",
              "      cursor: pointer;\n",
              "      display: none;\n",
              "      fill: #1967D2;\n",
              "      height: 32px;\n",
              "      padding: 0 0 0 0;\n",
              "      width: 32px;\n",
              "    }\n",
              "\n",
              "    .colab-df-convert:hover {\n",
              "      background-color: #E2EBFA;\n",
              "      box-shadow: 0px 1px 2px rgba(60, 64, 67, 0.3), 0px 1px 3px 1px rgba(60, 64, 67, 0.15);\n",
              "      fill: #174EA6;\n",
              "    }\n",
              "\n",
              "    [theme=dark] .colab-df-convert {\n",
              "      background-color: #3B4455;\n",
              "      fill: #D2E3FC;\n",
              "    }\n",
              "\n",
              "    [theme=dark] .colab-df-convert:hover {\n",
              "      background-color: #434B5C;\n",
              "      box-shadow: 0px 1px 3px 1px rgba(0, 0, 0, 0.15);\n",
              "      filter: drop-shadow(0px 1px 2px rgba(0, 0, 0, 0.3));\n",
              "      fill: #FFFFFF;\n",
              "    }\n",
              "  </style>\n",
              "\n",
              "      <script>\n",
              "        const buttonEl =\n",
              "          document.querySelector('#df-85219a71-ba5f-461f-9f1b-b6cd674581bf button.colab-df-convert');\n",
              "        buttonEl.style.display =\n",
              "          google.colab.kernel.accessAllowed ? 'block' : 'none';\n",
              "\n",
              "        async function convertToInteractive(key) {\n",
              "          const element = document.querySelector('#df-85219a71-ba5f-461f-9f1b-b6cd674581bf');\n",
              "          const dataTable =\n",
              "            await google.colab.kernel.invokeFunction('convertToInteractive',\n",
              "                                                     [key], {});\n",
              "          if (!dataTable) return;\n",
              "\n",
              "          const docLinkHtml = 'Like what you see? Visit the ' +\n",
              "            '<a target=\"_blank\" href=https://colab.research.google.com/notebooks/data_table.ipynb>data table notebook</a>'\n",
              "            + ' to learn more about interactive tables.';\n",
              "          element.innerHTML = '';\n",
              "          dataTable['output_type'] = 'display_data';\n",
              "          await google.colab.output.renderOutput(dataTable, element);\n",
              "          const docLink = document.createElement('div');\n",
              "          docLink.innerHTML = docLinkHtml;\n",
              "          element.appendChild(docLink);\n",
              "        }\n",
              "      </script>\n",
              "    </div>\n",
              "  </div>\n",
              "  "
            ]
          },
          "metadata": {},
          "execution_count": 52
        }
      ]
    },
    {
      "cell_type": "code",
      "source": [
        "#Declaramos las variables dependientes e independientes para la regresión Logística\n",
        "Vars_Indep= df[['83_willingness_ultrafast_delivery', '84_willingness_sameday_delivery', '289_number_whatsapp_purchases_month']]\n",
        "Var_Dep= df2['283_fulfill_needs']\n"
      ],
      "metadata": {
        "id": "K277w1uTwob7"
      },
      "execution_count": null,
      "outputs": []
    },
    {
      "cell_type": "code",
      "source": [
        "#Redefinimos las variables \n",
        "X= Vars_Indep\n",
        "y= Var_Dep"
      ],
      "metadata": {
        "id": "UsSxaYB8xBJr"
      },
      "execution_count": null,
      "outputs": []
    },
    {
      "cell_type": "code",
      "source": [
        "#Dividimos el conjunto de datos en la parte de entrenamiento y prueba:\n",
        "X_train, X_test, y_train, y_test = train_test_split(X, y, test_size=0.3, random_state =None)"
      ],
      "metadata": {
        "id": "eRIxoTTYw4iq"
      },
      "execution_count": null,
      "outputs": []
    },
    {
      "cell_type": "code",
      "source": [
        "#Se escalan todos los datos\n",
        "escalar = StandardScaler()"
      ],
      "metadata": {
        "id": "qWPPNDMlxEfO"
      },
      "execution_count": null,
      "outputs": []
    },
    {
      "cell_type": "code",
      "source": [
        "#Para realizar el escalamiento de las variables “X” tanto de entrenamiento como de prueba, utilizaremos fit_transform\n",
        "X_train = escalar.fit_transform(X_train)\n",
        "X_test = escalar.transform(X_test)"
      ],
      "metadata": {
        "id": "FIqXptibxG6d"
      },
      "execution_count": null,
      "outputs": []
    },
    {
      "cell_type": "code",
      "source": [
        "#Definimos el algoritmo a utilizar\n",
        "from sklearn.linear_model import LogisticRegression\n",
        "algoritmo = LogisticRegression()"
      ],
      "metadata": {
        "id": "gorrRLtlxJn3"
      },
      "execution_count": null,
      "outputs": []
    },
    {
      "cell_type": "code",
      "source": [
        "#Entrenamos el modelo\n",
        "algoritmo.fit(X_train, y_train)"
      ],
      "metadata": {
        "colab": {
          "base_uri": "https://localhost:8080/"
        },
        "id": "LqjPLDk7xKpw",
        "outputId": "4a36a884-5913-4233-cc1d-34bd052f9c19"
      },
      "execution_count": null,
      "outputs": [
        {
          "output_type": "execute_result",
          "data": {
            "text/plain": [
              "LogisticRegression()"
            ]
          },
          "metadata": {},
          "execution_count": 59
        }
      ]
    },
    {
      "cell_type": "code",
      "source": [
        "#Realizamos una predicción\n",
        "y_pred = algoritmo.predict(X_test) \n",
        "y_pred"
      ],
      "metadata": {
        "colab": {
          "base_uri": "https://localhost:8080/"
        },
        "id": "fuHmzs5sxPgL",
        "outputId": "9bd2fab8-5026-423c-aaeb-ee4e57b2e058"
      },
      "execution_count": null,
      "outputs": [
        {
          "output_type": "execute_result",
          "data": {
            "text/plain": [
              "array(['yes', 'yes', 'yes', 'yes', 'no', 'yes', 'yes', 'yes', 'yes',\n",
              "       'yes', 'yes', 'yes', 'yes', 'yes', 'yes', 'yes', 'yes', 'yes',\n",
              "       'yes', 'yes', 'yes', 'yes', 'yes', 'yes', 'yes', 'yes', 'yes',\n",
              "       'yes', 'yes', 'yes', 'yes', 'yes', 'yes', 'yes', 'yes'],\n",
              "      dtype=object)"
            ]
          },
          "metadata": {},
          "execution_count": 60
        }
      ]
    },
    {
      "cell_type": "code",
      "source": [
        "#Verifico la matriz de Confusión\n",
        "from sklearn.metrics import confusion_matrix\n",
        "matriz = confusion_matrix(y_test, y_pred)\n",
        "print('Matriz de Confusión:')\n",
        "print(matriz)"
      ],
      "metadata": {
        "colab": {
          "base_uri": "https://localhost:8080/"
        },
        "id": "xAfoiYSexR4R",
        "outputId": "40b95d91-68e6-4dc7-e4dc-f0f9bc27927e"
      },
      "execution_count": null,
      "outputs": [
        {
          "output_type": "stream",
          "name": "stdout",
          "text": [
            "Matriz de Confusión:\n",
            "[[ 0  0]\n",
            " [ 1 34]]\n"
          ]
        }
      ]
    },
    {
      "cell_type": "code",
      "source": [
        "#Calculo la precisión del modelo\n",
        "from sklearn.metrics import precision_score\n",
        "\n",
        "precision = precision_score(y_test, y_pred, average=\"binary\", pos_label=\"yes\")\n",
        "print('Precisión del modelo:')\n",
        "print(precision)"
      ],
      "metadata": {
        "colab": {
          "base_uri": "https://localhost:8080/"
        },
        "id": "8M3emuNjxUZu",
        "outputId": "30f44b39-8c27-402f-fa10-d843661b00ae"
      },
      "execution_count": null,
      "outputs": [
        {
          "output_type": "stream",
          "name": "stdout",
          "text": [
            "Precisión del modelo:\n",
            "1.0\n"
          ]
        }
      ]
    },
    {
      "cell_type": "code",
      "source": [
        "#Calculo la exactitud del modelo\n",
        "from sklearn.metrics import accuracy_score\n",
        "\n",
        "exactitud = accuracy_score(y_test, y_pred)\n",
        "print('Exactitud del modelo:')\n",
        "print(exactitud)"
      ],
      "metadata": {
        "colab": {
          "base_uri": "https://localhost:8080/"
        },
        "id": "wE8YWIESxW5X",
        "outputId": "645ff0ec-f9bb-4386-a81d-2fdc79590e1f"
      },
      "execution_count": null,
      "outputs": [
        {
          "output_type": "stream",
          "name": "stdout",
          "text": [
            "Exactitud del modelo:\n",
            "0.9714285714285714\n"
          ]
        }
      ]
    },
    {
      "cell_type": "code",
      "source": [
        "#Calculo la sensibilidad del modelo\n",
        "from sklearn.metrics import recall_score\n",
        "\n",
        "sensibilidad = recall_score(y_test, y_pred, average=\"binary\", pos_label=\"yes\")\n",
        "print('Sensibilidad del modelo:')\n",
        "print(sensibilidad)"
      ],
      "metadata": {
        "colab": {
          "base_uri": "https://localhost:8080/"
        },
        "id": "Eo3uHV-DxZYS",
        "outputId": "aa4ae752-1491-4d60-daf0-8662807b940c"
      },
      "execution_count": null,
      "outputs": [
        {
          "output_type": "stream",
          "name": "stdout",
          "text": [
            "Sensibilidad del modelo:\n",
            "0.9714285714285714\n"
          ]
        }
      ]
    },
    {
      "cell_type": "code",
      "source": [
        "# el puntaje F1 que es una combinación entre la precisión y la sensibilidad, para esto importamos f1_score.\n",
        "#Calculo el Puntaje F1 del modelo\n",
        "from sklearn.metrics import f1_score\n",
        "\n",
        "puntajef1 = f1_score(y_test, y_pred, average=\"binary\", pos_label=\"yes\")\n",
        "print('Puntaje F1 del modelo:')\n",
        "print(puntajef1)\n"
      ],
      "metadata": {
        "colab": {
          "base_uri": "https://localhost:8080/"
        },
        "id": "rEgA4O5UxcSt",
        "outputId": "07001086-5beb-46f8-ec59-027919811fba"
      },
      "execution_count": null,
      "outputs": [
        {
          "output_type": "stream",
          "name": "stdout",
          "text": [
            "Puntaje F1 del modelo:\n",
            "0.9855072463768115\n"
          ]
        }
      ]
    }
  ]
}